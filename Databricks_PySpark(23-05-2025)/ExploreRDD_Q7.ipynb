{
 "cells": [
  {
   "cell_type": "code",
   "execution_count": 0,
   "metadata": {
    "application/vnd.databricks.v1+cell": {
     "cellMetadata": {
      "byteLimit": 2048000,
      "rowLimit": 10000
     },
     "inputWidgets": {},
     "nuid": "a3c916fa-03fe-4c94-95b8-671c027e12d3",
     "showTitle": true,
     "tableResultSettingsMap": {},
     "title": "Exploring RDD and Lambda"
    }
   },
   "outputs": [
    {
     "output_type": "stream",
     "name": "stdout",
     "output_type": "stream",
     "text": [
      "Original data: [1, 2, 3, 4, 5]\nSquared data: [1, 4, 9, 16, 25]\nOut[1]: '\\nExplaination : RDD: The parallelize method distributes the list across the Spark cluster. RDDs are immutable and fault-tolerant.\\nLambda Function: The map transformation applies lambda x: x * x to each element, creating a new RDD with squared values.\\nCollect: Gathers results back to the driver (use cautiously with large datasets).\\n'"
     ]
    }
   ],
   "source": [
    "from pyspark.sql import SparkSession\n",
    "\n",
    "# Initialize Spark session\n",
    "spark = SparkSession.builder.appName(\"ExploreRDD\").getOrCreate()\n",
    "\n",
    "# Create an RDD from a Python list\n",
    "data = [1, 2, 3, 4, 5]\n",
    "rdd = spark.sparkContext.parallelize(data)\n",
    "\n",
    "# Use a lambda function to square each element\n",
    "squared_rdd = rdd.map(lambda x: x * x)\n",
    "\n",
    "# Collect and display results\n",
    "results = squared_rdd.collect()\n",
    "print(\"Original data:\", data)\n",
    "print(\"Squared data:\", results)\n",
    "\n",
    "'''\n",
    "Explaination : RDD: The parallelize method distributes the list across the Spark cluster. RDDs are immutable and fault-tolerant.\n",
    "Lambda Function: The map transformation applies lambda x: x * x to each element, creating a new RDD with squared values.\n",
    "Collect: Gathers results back to the driver (use cautiously with large datasets).\n",
    "'''"
   ]
  }
 ],
 "metadata": {
  "application/vnd.databricks.v1+notebook": {
   "computePreferences": null,
   "dashboards": [],
   "environmentMetadata": {
    "base_environment": "",
    "environment_version": "1"
   },
   "inputWidgetPreferences": null,
   "language": "python",
   "notebookMetadata": {
    "pythonIndentUnit": 4
   },
   "notebookName": "ExploreRDD_Q7",
   "widgets": {}
  }
 },
 "nbformat": 4,
 "nbformat_minor": 0
}